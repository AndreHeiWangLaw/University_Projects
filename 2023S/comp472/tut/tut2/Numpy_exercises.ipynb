{
 "cells": [
  {
   "cell_type": "code",
   "execution_count": 1,
   "metadata": {
    "id": "bpWdsoMDdQdc"
   },
   "outputs": [],
   "source": [
    "import numpy as np"
   ]
  },
  {
   "cell_type": "markdown",
   "metadata": {
    "id": "6XGwE_uYdQdf"
   },
   "source": [
    "# Numpy Exercises"
   ]
  },
  {
   "cell_type": "code",
   "execution_count": null,
   "metadata": {
    "id": "S9jBYJ_VdQdf"
   },
   "outputs": [],
   "source": [
    "# 1. Reverse a vector (first element becomes last) \n"
   ]
  },
  {
   "cell_type": "code",
   "execution_count": null,
   "metadata": {
    "id": "uTm1HJ9RdQdh"
   },
   "outputs": [],
   "source": [
    "# 2. Create a 3x3 matrix with values ranging from 0 to 8 \n"
   ]
  },
  {
   "cell_type": "code",
   "execution_count": null,
   "metadata": {
    "id": "2WK2AaOndQdh"
   },
   "outputs": [],
   "source": [
    "# 3. Find indices of non-zero elements from [1,2,0,0,4,0]\n"
   ]
  },
  {
   "cell_type": "code",
   "execution_count": null,
   "metadata": {
    "id": "8MEp-Jb5dQdh"
   },
   "outputs": [],
   "source": [
    "# 4. Create a 10x10 array with random values and find the minimum and maximum values\n"
   ]
  },
  {
   "cell_type": "code",
   "execution_count": null,
   "metadata": {
    "id": "NzZ824p1dQdi"
   },
   "outputs": [],
   "source": [
    "# 5. Create a 2d array with 1 on the border and 0 inside \n"
   ]
  },
  {
   "cell_type": "code",
   "execution_count": null,
   "metadata": {
    "id": "FyKNWzykdQdi"
   },
   "outputs": [],
   "source": [
    "# 6. Consider a (6,7,8) shape array, what is the index (x,y,z) of the 100th element?\n"
   ]
  },
  {
   "cell_type": "code",
   "execution_count": null,
   "metadata": {
    "id": "Zq3y2ZI8dQdj"
   },
   "outputs": [],
   "source": [
    "# 7. Create a checkerboard 8x8 matrix using the tile function\n",
    "\n"
   ]
  },
  {
   "cell_type": "code",
   "execution_count": null,
   "metadata": {
    "id": "524NS_BNdQdj"
   },
   "outputs": [],
   "source": [
    "# 8. Normalize a 5x5 random matrix\n",
    "\n"
   ]
  },
  {
   "cell_type": "code",
   "execution_count": null,
   "metadata": {
    "id": "8oUJMS_ndQdk"
   },
   "outputs": [],
   "source": [
    "# 9. Create random vector of size 10 and replace the maximum value by 0\n",
    "\n"
   ]
  },
  {
   "cell_type": "code",
   "execution_count": null,
   "metadata": {
    "id": "CewD_ToIdQdk"
   },
   "outputs": [],
   "source": [
    "# 10. Subtract the mean of each row of a matrix\n",
    "\n"
   ]
  },
  {
   "cell_type": "code",
   "execution_count": null,
   "metadata": {
    "id": "Z6LMPZyKdQdk"
   },
   "outputs": [],
   "source": [
    "# 11. How to tell if a given 2D array has null columns\n",
    "\n"
   ]
  },
  {
   "cell_type": "code",
   "execution_count": null,
   "metadata": {
    "id": "-IkSEOhFdQdk"
   },
   "outputs": [],
   "source": []
  }
 ],
 "metadata": {
  "colab": {
   "provenance": []
  },
  "kernelspec": {
   "display_name": "Python 3 (ipykernel)",
   "language": "python",
   "name": "python3"
  },
  "language_info": {
   "codemirror_mode": {
    "name": "ipython",
    "version": 3
   },
   "file_extension": ".py",
   "mimetype": "text/x-python",
   "name": "python",
   "nbconvert_exporter": "python",
   "pygments_lexer": "ipython3",
   "version": "3.8.13"
  }
 },
 "nbformat": 4,
 "nbformat_minor": 1
}
