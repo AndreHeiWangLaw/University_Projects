{
 "cells": [
  {
   "cell_type": "code",
   "execution_count": 1,
   "metadata": {
    "id": "bpWdsoMDdQdc"
   },
   "outputs": [],
   "source": [
    "import numpy as np"
   ]
  },
  {
   "cell_type": "markdown",
   "metadata": {
    "id": "6XGwE_uYdQdf"
   },
   "source": [
    "# Numpy Exercises"
   ]
  },
  {
   "cell_type": "code",
   "execution_count": 2,
   "metadata": {
    "colab": {
     "base_uri": "https://localhost:8080/"
    },
    "id": "S9jBYJ_VdQdf",
    "outputId": "72d28317-06a8-46c6-9d0e-498b9c67f3b3"
   },
   "outputs": [
    {
     "name": "stdout",
     "output_type": "stream",
     "text": [
      "[49 48 47 46 45 44 43 42 41 40 39 38 37 36 35 34 33 32 31 30 29 28 27 26\n",
      " 25 24 23 22 21 20 19 18 17 16 15 14 13 12 11 10  9  8  7  6  5  4  3  2\n",
      "  1  0]\n"
     ]
    }
   ],
   "source": [
    "# 1. Reverse a vector (first element becomes last) \n",
    "\n",
    "a = np.arange(50)\n",
    "reverse_a = a[::-1]\n",
    "print(reverse_a)"
   ]
  },
  {
   "cell_type": "code",
   "execution_count": 3,
   "metadata": {
    "colab": {
     "base_uri": "https://localhost:8080/"
    },
    "id": "uTm1HJ9RdQdh",
    "outputId": "5cae153f-efa5-4b55-c1dd-f9d6b465e75f"
   },
   "outputs": [
    {
     "name": "stdout",
     "output_type": "stream",
     "text": [
      "[[0 1 2]\n",
      " [3 4 5]\n",
      " [6 7 8]]\n"
     ]
    }
   ],
   "source": [
    "# 2. Create a 3x3 matrix with values ranging from 0 to 8 \n",
    "\n",
    "a = np.arange(9)\n",
    "a = a.reshape(3,3)\n",
    "print(a)\n"
   ]
  },
  {
   "cell_type": "code",
   "execution_count": 4,
   "metadata": {
    "colab": {
     "base_uri": "https://localhost:8080/"
    },
    "id": "2WK2AaOndQdh",
    "outputId": "d05125d8-5d96-41a8-c9a9-e8794497cfff"
   },
   "outputs": [
    {
     "name": "stdout",
     "output_type": "stream",
     "text": [
      "(array([0, 1, 4]),)\n"
     ]
    }
   ],
   "source": [
    "# 3. Find indices of non-zero elements from [1,2,0,0,4,0]\n",
    "\n",
    "a = np.array([1,2,0,0,4,0])\n",
    "nz = np.nonzero(a)\n",
    "print(nz)"
   ]
  },
  {
   "cell_type": "code",
   "execution_count": 5,
   "metadata": {
    "colab": {
     "base_uri": "https://localhost:8080/"
    },
    "id": "8MEp-Jb5dQdh",
    "outputId": "bd11aa85-9e95-4d72-c978-2951028dcc4a"
   },
   "outputs": [
    {
     "name": "stdout",
     "output_type": "stream",
     "text": [
      "0.009944936136906946 0.9762686569997564\n"
     ]
    }
   ],
   "source": [
    "# 4. Create a 10x10 array with random values and find the minimum and maximum values\n",
    "\n",
    "a = np.random.random([10,10])\n",
    "amin, amax = a.min(), a.max()\n",
    "print(amin, amax)"
   ]
  },
  {
   "cell_type": "code",
   "execution_count": 6,
   "metadata": {
    "colab": {
     "base_uri": "https://localhost:8080/"
    },
    "id": "NzZ824p1dQdi",
    "outputId": "c0b56ed7-c034-46db-8ae6-2eb60db7e8b3"
   },
   "outputs": [
    {
     "data": {
      "text/plain": [
       "array([[1., 1., 1., 1., 1., 1., 1., 1., 1., 1.],\n",
       "       [1., 0., 0., 0., 0., 0., 0., 0., 0., 1.],\n",
       "       [1., 0., 0., 0., 0., 0., 0., 0., 0., 1.],\n",
       "       [1., 0., 0., 0., 0., 0., 0., 0., 0., 1.],\n",
       "       [1., 0., 0., 0., 0., 0., 0., 0., 0., 1.],\n",
       "       [1., 0., 0., 0., 0., 0., 0., 0., 0., 1.],\n",
       "       [1., 0., 0., 0., 0., 0., 0., 0., 0., 1.],\n",
       "       [1., 0., 0., 0., 0., 0., 0., 0., 0., 1.],\n",
       "       [1., 0., 0., 0., 0., 0., 0., 0., 0., 1.],\n",
       "       [1., 1., 1., 1., 1., 1., 1., 1., 1., 1.]])"
      ]
     },
     "execution_count": 6,
     "metadata": {},
     "output_type": "execute_result"
    }
   ],
   "source": [
    "# 5. Create a 2d array with 1 on the border and 0 inside \n",
    "\n",
    "z = np.ones((10,10))\n",
    "z[1:-1,1:-1]=0\n",
    "z\n"
   ]
  },
  {
   "cell_type": "code",
   "execution_count": 7,
   "metadata": {
    "colab": {
     "base_uri": "https://localhost:8080/"
    },
    "id": "FyKNWzykdQdi",
    "outputId": "34c13d56-4be0-4767-e3f1-3cab860922c9"
   },
   "outputs": [
    {
     "name": "stdout",
     "output_type": "stream",
     "text": [
      "(1, 5, 4)\n"
     ]
    }
   ],
   "source": [
    "# 6. Consider a (6,7,8) shape array, what is the index (x,y,z) of the 100th element?\n",
    "\n",
    "print(np.unravel_index(100, (6,7,8)))"
   ]
  },
  {
   "cell_type": "code",
   "execution_count": 8,
   "metadata": {
    "colab": {
     "base_uri": "https://localhost:8080/"
    },
    "id": "Zq3y2ZI8dQdj",
    "outputId": "20f79252-f14b-4338-877e-d1da145fbb08"
   },
   "outputs": [
    {
     "name": "stdout",
     "output_type": "stream",
     "text": [
      "[[0 1 0 1 0 1 0 1]\n",
      " [1 0 1 0 1 0 1 0]\n",
      " [0 1 0 1 0 1 0 1]\n",
      " [1 0 1 0 1 0 1 0]\n",
      " [0 1 0 1 0 1 0 1]\n",
      " [1 0 1 0 1 0 1 0]\n",
      " [0 1 0 1 0 1 0 1]\n",
      " [1 0 1 0 1 0 1 0]]\n"
     ]
    }
   ],
   "source": [
    "# 7. Create a checkerboard 8x8 matrix using the tile function\n",
    "\n",
    "a = np.array([[0,1],[1,0]])\n",
    "z = np.tile(a, (4,4))\n",
    "print(z)\n"
   ]
  },
  {
   "cell_type": "code",
   "execution_count": 9,
   "metadata": {
    "colab": {
     "base_uri": "https://localhost:8080/"
    },
    "id": "524NS_BNdQdj",
    "outputId": "3f14b41f-8808-4112-b350-91e607dca52d"
   },
   "outputs": [
    {
     "name": "stdout",
     "output_type": "stream",
     "text": [
      "[[ 0.19461322 -1.16391565 -1.439097    1.47060001  1.67353078]\n",
      " [ 0.395725   -0.52244098 -0.88686663  0.83336289 -0.518103  ]\n",
      " [-0.0730046  -0.31384612  0.6585167   0.55131148 -0.29509328]\n",
      " [-1.46247802 -0.52260415  2.00667364 -1.17553477 -0.53645492]\n",
      " [-0.03641939  0.65064136  1.92799369 -0.38353527 -1.03357498]]\n"
     ]
    }
   ],
   "source": [
    "# 8. Normalize a 5x5 random matrix \n",
    "\n",
    "z = np.random.random((5,5))\n",
    "norm_z = (z - np.mean(z))/np.std(z)\n",
    "print(norm_z) "
   ]
  },
  {
   "cell_type": "code",
   "execution_count": 10,
   "metadata": {
    "colab": {
     "base_uri": "https://localhost:8080/"
    },
    "id": "8oUJMS_ndQdk",
    "outputId": "0b2c5602-a647-4680-a82c-791abd3a2d81"
   },
   "outputs": [
    {
     "name": "stdout",
     "output_type": "stream",
     "text": [
      "[0.72932213 0.3838153  0.91886292 0.         0.95275204 0.16592855\n",
      " 0.06210001 0.91675203 0.69062237 0.42022048]\n"
     ]
    }
   ],
   "source": [
    "# 9. Create random vector of size 10 and replace the maximum value by 0\n",
    "\n",
    "a = np.random.random(10)\n",
    "a[a.argmax()]=0\n",
    "print(a)"
   ]
  },
  {
   "cell_type": "code",
   "execution_count": 11,
   "metadata": {
    "colab": {
     "base_uri": "https://localhost:8080/"
    },
    "id": "CewD_ToIdQdk",
    "outputId": "d9a4295e-af21-4c57-eddc-fbd35abf2af0"
   },
   "outputs": [
    {
     "name": "stdout",
     "output_type": "stream",
     "text": [
      "[[ 0.06958802 -0.43552529  0.01253612  0.49678338  0.45430082  0.00958989\n",
      "   0.03198802 -0.24530503 -0.25398668 -0.13996925]\n",
      " [-0.22793387 -0.05066614  0.36449569  0.45278593 -0.28236685 -0.14290571\n",
      "  -0.23593162 -0.3629207   0.34289423  0.14254903]\n",
      " [ 0.14658765  0.06297023  0.28481265 -0.11389707 -0.28734692 -0.3383157\n",
      "   0.25892647  0.3400749  -0.25270578 -0.10110644]\n",
      " [ 0.04600627  0.05886536  0.36194283  0.21935159 -0.18710806  0.0852089\n",
      "  -0.1824298  -0.46751908  0.14058505 -0.07490308]\n",
      " [-0.45272757  0.01395613 -0.14592395 -0.12940633  0.3113081   0.19041888\n",
      "   0.41572607 -0.56628718  0.16881723  0.19411861]]\n"
     ]
    }
   ],
   "source": [
    "# 10. Subtract the mean of each row of a matrix\n",
    "\n",
    "Z = np.random.rand(5,10)\n",
    "Y = Z - Z.mean(axis=1, keepdims=True)\n",
    "print(Y)"
   ]
  },
  {
   "cell_type": "code",
   "execution_count": 12,
   "metadata": {
    "colab": {
     "base_uri": "https://localhost:8080/"
    },
    "id": "Z6LMPZyKdQdk",
    "outputId": "ed113231-20d0-4ef2-841b-956fc9b8d7b6"
   },
   "outputs": [
    {
     "name": "stdout",
     "output_type": "stream",
     "text": [
      "False\n"
     ]
    }
   ],
   "source": [
    "# 11. How to tell if a given 2D array has null columns\n",
    "\n",
    "z = np.random.randint(0,3,(3,10))\n",
    "print((~Z.any(axis=0)).any())"
   ]
  }
 ],
 "metadata": {
  "colab": {
   "provenance": []
  },
  "kernelspec": {
   "display_name": "Python 3 (ipykernel)",
   "language": "python",
   "name": "python3"
  },
  "language_info": {
   "codemirror_mode": {
    "name": "ipython",
    "version": 3
   },
   "file_extension": ".py",
   "mimetype": "text/x-python",
   "name": "python",
   "nbconvert_exporter": "python",
   "pygments_lexer": "ipython3",
   "version": "3.8.13"
  }
 },
 "nbformat": 4,
 "nbformat_minor": 1
}
