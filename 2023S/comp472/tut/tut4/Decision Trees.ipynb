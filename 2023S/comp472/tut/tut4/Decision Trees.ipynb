{
 "cells": [
  {
   "cell_type": "markdown",
   "metadata": {},
   "source": [
    "COMP 472 - Decision Trees COMP 6721 Applied Artificial Intelligence\n",
    "\n",
    "Write a Python program that uses scikit-learn’s Decision Tree Classifier:"
   ]
  },
  {
   "cell_type": "markdown",
   "metadata": {},
   "source": [
    "# Question 1 \n",
    "Given the training instances below, use information theory to find whether\n",
    "‘Outlook’ or ‘Windy’ is the best feature to decide when to play a game of golf."
   ]
  },
  {
   "cell_type": "code",
   "execution_count": null,
   "metadata": {},
   "outputs": [],
   "source": [
    "import numpy as np\n",
    "dataset = np.array([\n",
    "['sunny', 85, 85, 0, 'Don\\'t Play'],\n",
    "['sunny', 80, 90, 1, 'Don\\'t Play'],\n",
    "['overcast', 83, 78, 0, 'Play'],\n",
    "['rain', 70, 96, 0, 'Play'],\n",
    "['rain', 68, 80, 0, 'Play'],\n",
    "['rain', 65, 70, 1, 'Don\\'t Play'],\n",
    "['overcast', 64, 65, 1, 'Play'],\n",
    "['sunny', 72, 95, 0, 'Don\\'t Play'],\n",
    "['sunny', 69, 70, 0, 'Play'],\n",
    "['rain', 75, 80, 0, 'Play'],\n",
    "['sunny', 75, 70, 1, 'Play'],\n",
    "['overcast', 72, 90,1, 'Play'],\n",
    "['overcast', 81, 75, 0, 'Play'],\n",
    "['rain', 71, 80, 1, 'Don\\'t Play'],\n",
    "])\n",
    "print(dataset)"
   ]
  },
  {
   "cell_type": "code",
   "execution_count": null,
   "metadata": {
    "scrolled": true
   },
   "outputs": [],
   "source": [
    "import pandas as pd\n",
    "df2 = pd.DataFrame(dataset,\n",
    "                   columns=['Outlook', 'Temperature', 'Humidity','Windy','Play / Don’t Play'])\n",
    "blankIndex=[''] * len(df2)\n",
    "df2.index=blankIndex\n",
    "df2"
   ]
  },
  {
   "cell_type": "markdown",
   "metadata": {},
   "source": [
    "EXERCISE 1"
   ]
  },
  {
   "cell_type": "code",
   "execution_count": null,
   "metadata": {},
   "outputs": [],
   "source": [
    "from sklearn import tree\n",
    "from sklearn import preprocessing"
   ]
  },
  {
   "cell_type": "markdown",
   "metadata": {},
   "source": [
    "For our feature vectors, we need the first four columns and for the training labels, we use the last column from the dataset:\n"
   ]
  },
  {
   "cell_type": "code",
   "execution_count": null,
   "metadata": {},
   "outputs": [],
   "source": [
    "X = dataset[:, 0:4]\n",
    "y = dataset[:, 4]"
   ]
  },
  {
   "cell_type": "markdown",
   "metadata": {},
   "source": [
    "However, you will not be able to use the data as-is: All features must be\n",
    "numerical for training the classifier, so you have to transform the strings into\n",
    "numbers. Fortunately, scikit-learn has a preprocessing class for label encoding\n",
    "that we can use:"
   ]
  },
  {
   "cell_type": "code",
   "execution_count": null,
   "metadata": {},
   "outputs": [],
   "source": [
    "le = preprocessing.LabelEncoder()\n",
    "X[:, 0] = le.fit_transform(X[:, 0])\n",
    "y = le.fit_transform(y)"
   ]
  },
  {
   "cell_type": "markdown",
   "metadata": {},
   "source": [
    "Now you can create a classifier object:"
   ]
  },
  {
   "cell_type": "code",
   "execution_count": null,
   "metadata": {},
   "outputs": [],
   "source": [
    "dtc = tree.DecisionTreeClassifier(criterion=\"entropy\")"
   ]
  },
  {
   "cell_type": "markdown",
   "metadata": {},
   "source": [
    "Note that we are using the entropy option for building the tree, which is the\n",
    "method we’ve studied in class and used on the exercise sheet. Train the classifier\n",
    "to build the tree:\n"
   ]
  },
  {
   "cell_type": "code",
   "execution_count": null,
   "metadata": {},
   "outputs": [],
   "source": [
    "dtc.fit(X, y)"
   ]
  },
  {
   "cell_type": "markdown",
   "metadata": {},
   "source": [
    "Now you can predict a new value using dtc.predict(test). Note: if you want the string output that\n",
    "you transformed above, you can use the inverse_transform(predict) function\n",
    "of a label encoder to change the predicted result back into a string."
   ]
  },
  {
   "cell_type": "code",
   "execution_count": null,
   "metadata": {},
   "outputs": [],
   "source": [
    "y_pred = dtc.predict([[2, 81, 95, 1]])\n",
    "print(\"Predicted output: \", le.inverse_transform(y_pred))"
   ]
  },
  {
   "cell_type": "markdown",
   "metadata": {},
   "source": [
    "You can also print the tree:"
   ]
  },
  {
   "cell_type": "code",
   "execution_count": null,
   "metadata": {},
   "outputs": [],
   "source": [
    "tree.plot_tree(dtc)"
   ]
  },
  {
   "cell_type": "markdown",
   "metadata": {},
   "source": [
    "but this can be a bit hard to read; to get a prettier version you can use the\n",
    "Graphviz visualization software, which you can call from Python like this:"
   ]
  },
  {
   "cell_type": "code",
   "execution_count": null,
   "metadata": {},
   "outputs": [],
   "source": [
    "import graphviz\n",
    "dot_data = tree.export_graphviz(dtc, out_file=None,\n",
    "feature_names=['Outlook', 'Temperature', 'Humidity', 'Windy'],\n",
    "class_names=le.classes_,\n",
    "filled=True, rounded=True)\n",
    "graph = graphviz.Source(dot_data)\n",
    "graph.render(\"mytree1\")"
   ]
  },
  {
   "cell_type": "markdown",
   "metadata": {},
   "source": [
    "The result will be stored in a file mytree.pdf "
   ]
  },
  {
   "cell_type": "markdown",
   "metadata": {},
   "source": [
    "EXERCISE 2 "
   ]
  },
  {
   "cell_type": "markdown",
   "metadata": {},
   "source": [
    "Let’s start working with some “real” data: scikit-learn comes with a number of\n",
    "example datasets, including the Iris flower dataset. If you do not know this\n",
    "dataset, start by reading https://en.wikipedia.org/wiki/Iris_flower_data_\n",
    "set.\n"
   ]
  },
  {
   "cell_type": "code",
   "execution_count": null,
   "metadata": {},
   "outputs": [],
   "source": [
    "from sklearn import tree\n",
    "from sklearn.datasets import load_iris\n",
    "# load the Iris dataset\n",
    "iris = load_iris()\n",
    "X, y = iris.data, iris.target\n",
    "X_train, X_test, y_train, y_test = train_test_split(\n",
    "X, y, test_size=0.6, random_state=0)\n",
    "# create and print the decision tree\n",
    "dtc = tree.DecisionTreeClassifier(criterion=\"entropy\")\n",
    "dtc.fit(X_train, y_train)\n",
    "tree.plot_tree(dtc)"
   ]
  },
  {
   "cell_type": "code",
   "execution_count": null,
   "metadata": {},
   "outputs": [],
   "source": [
    "import graphviz\n",
    "dot_data = tree.export_graphviz(dtc, out_file=None,\n",
    "feature_names=iris.feature_names,\n",
    "class_names=iris.target_names,\n",
    "filled=True, rounded=True,\n",
    "special_characters=True)\n",
    "graph = graphviz.Source(dot_data)\n",
    "graph.render(\"iristree\")\n"
   ]
  },
  {
   "cell_type": "markdown",
   "metadata": {},
   "source": [
    "Now you have to evaluate the performance of your classifier. Use scikitlearn’s train_test_split helper function5\n",
    "to split the Iris dataset into\n",
    "a training and testing subset, as discussed in the lecture. Now run an\n",
    "evaluation to compute the Precision, Recall, F1-measure, and Accuracy\n",
    "of your classifier using the evaluation tools in scikit-learn.\n"
   ]
  },
  {
   "cell_type": "markdown",
   "metadata": {},
   "source": [
    "To create an 80%/20% split of the training/testing data, use:"
   ]
  },
  {
   "cell_type": "markdown",
   "metadata": {},
   "source": [
    "scikit-learn has a helper function to produce a report for all the metrics,\n",
    "classification_report:"
   ]
  },
  {
   "cell_type": "code",
   "execution_count": null,
   "metadata": {},
   "outputs": [],
   "source": [
    "y_pred = dtc.predict(X_test)\n",
    "from sklearn.metrics import classification_report\n",
    "print(classification_report(y_test, y_pred))\n"
   ]
  },
  {
   "cell_type": "markdown",
   "metadata": {},
   "source": [
    "As you can see, the data was easy to learn and your classifier has a perfect\n",
    "score. Try decreasing the training data to just 50% of the dataset to see\n",
    "some errors.\n",
    "Note: Since we have more than two classes, the above metrics are an\n",
    "average of the values for each individual class.\n"
   ]
  },
  {
   "cell_type": "markdown",
   "metadata": {},
   "source": [
    "Finally, compute and print out the confusion matrix."
   ]
  },
  {
   "cell_type": "code",
   "execution_count": null,
   "metadata": {},
   "outputs": [],
   "source": [
    "from sklearn.metrics import confusion_matrix\n",
    "print(\"Confusion Matrix:\\n\", confusion_matrix(y_test, y_pred))"
   ]
  },
  {
   "cell_type": "code",
   "execution_count": null,
   "metadata": {},
   "outputs": [],
   "source": []
  }
 ],
 "metadata": {
  "kernelspec": {
   "display_name": "Python 3 (ipykernel)",
   "language": "python",
   "name": "python3"
  },
  "language_info": {
   "codemirror_mode": {
    "name": "ipython",
    "version": 3
   },
   "file_extension": ".py",
   "mimetype": "text/x-python",
   "name": "python",
   "nbconvert_exporter": "python",
   "pygments_lexer": "ipython3",
   "version": "3.8.13"
  }
 },
 "nbformat": 4,
 "nbformat_minor": 4
}
